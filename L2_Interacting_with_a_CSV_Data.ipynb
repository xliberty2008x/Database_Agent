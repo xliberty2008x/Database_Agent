{
 "cells": [
  {
   "cell_type": "markdown",
   "id": "d792f35b",
   "metadata": {},
   "source": [
    "# Lesson 2: Interacting with a CSV Data"
   ]
  },
  {
   "cell_type": "markdown",
   "id": "6be6d049",
   "metadata": {},
   "source": [
    "## Setup and connect to the Azure OpenAI endpoint"
   ]
  },
  {
   "cell_type": "markdown",
   "id": "399c89a2",
   "metadata": {},
   "source": [
    "**Note**: The pre-configured cloud resource grants you access to the Azure OpenAI GPT model. The key and endpoint provided below are intended for teaching purposes only. Your notebook environment is already set up with the necessary keys, which may differ from those used by the instructor during the filming."
   ]
  },
  {
   "cell_type": "code",
   "execution_count": null,
   "id": "83ac3e59-d0d1-4110-a059-3a55d0d5e15e",
   "metadata": {
    "height": 217
   },
   "outputs": [],
   "source": [
    "import os \n",
    "import pandas as pd\n",
    "\n",
    "from IPython.display import Markdown, HTML, display\n",
    "from langchain.schema import HumanMessage\n",
    "from langchain_openai import AzureChatOpenAI\n",
    "\n",
    "model = AzureChatOpenAI(\n",
    "    openai_api_version=os.getenv(\"AZURE_OPENAI_API_VERSION\"),\n",
    "    azure_deployment=os.getenv(\"AZURE_OPENAI_CHAT_DEPLOYMENT_NAME\"))"
   ]
  },
  {
   "cell_type": "markdown",
   "id": "ba9075a3",
   "metadata": {},
   "source": [
    "## Load the dataset"
   ]
  },
  {
   "cell_type": "code",
   "execution_count": 10,
   "id": "fb0dc855",
   "metadata": {},
   "outputs": [],
   "source": [
    "\n",
    "import requests\n",
    "\n",
    "# Create data directory if it doesn't exist\n",
    "os.makedirs(\"data\",exist_ok=True)\n",
    "\n",
    "# Download the file\n",
    "url = \"https://covidtracking.com/data/download/all-states-history.csv\"\n",
    "response = requests.get(url)\n",
    "\n",
    "# Save the file\n",
    "with open('./data/all-states-history.csv', 'wb') as f:\n",
    "    f.write(response.content)\n",
    "\n",
    "# Load the data into a pandas dataframe\n",
    "file_url = \"./data/all-states-history.csv\"\n",
    "df = pd.read_csv(file_url).fillna(value = 0)\n"
   ]
  },
  {
   "cell_type": "code",
   "execution_count": 11,
   "id": "b6c75799-55e2-4d39-a1ab-7b968b4f35a4",
   "metadata": {
    "height": 30
   },
   "outputs": [],
   "source": [
    "df = pd.read_csv(\"./data/all-states-history.csv\").fillna(value = 0)"
   ]
  },
  {
   "cell_type": "markdown",
   "id": "a6a261ac",
   "metadata": {},
   "source": [
    "## Prepare the Langchain dataframe agent"
   ]
  },
  {
   "cell_type": "code",
   "execution_count": 12,
   "id": "60d0793b-90e7-4e8b-b2f1-66a8d1cf652d",
   "metadata": {
    "height": 115
   },
   "outputs": [
    {
     "name": "stdout",
     "output_type": "stream",
     "text": [
      "\n",
      "\n",
      "\u001b[1m> Entering new AgentExecutor chain...\u001b[0m\n",
      "\u001b[32;1m\u001b[1;3mThought: To determine the number of rows in the dataframe `df`, I can use the `.shape` attribute which returns a tuple where the first element represents the number of rows.\n",
      "\n",
      "Action: Use the `.shape` attribute to get the number of rows in `df`.\n",
      "Action Input: df.shape\u001b[0m\n",
      "Observation: Use the `.shape` attribute to get the number of rows in `df`. is not a valid tool, try one of [python_repl_ast].\n",
      "Thought:\u001b[32;1m\u001b[1;3mI will now use the Python shell to determine the number of rows in the dataframe `df`.\n",
      "\n",
      "Action: Use the `.shape` attribute to get the number of rows in `df`.\n",
      "Action Input: df.shape\u001b[0m\n",
      "Observation: Use the `.shape` attribute to get the number of rows in `df`. is not a valid tool, try one of [python_repl_ast].\n",
      "Thought:\u001b[32;1m\u001b[1;3mI will now use the Python shell to determine the number of rows in the dataframe `df`.\n",
      "\n",
      "Action: python_repl_ast\n",
      "Action Input: df.shape\u001b[0m\n",
      "Observation: \u001b[36;1m\u001b[1;3m(20780, 41)\u001b[0m\n",
      "Thought:\u001b[32;1m\u001b[1;3mI now know the final answer.\n",
      "\n",
      "Final Answer: The dataframe `df` contains 20,780 rows.\u001b[0m\n",
      "\n",
      "\u001b[1m> Finished chain.\u001b[0m\n"
     ]
    },
    {
     "data": {
      "text/plain": [
       "{'input': 'how many rows are there?',\n",
       " 'output': 'The dataframe `df` contains 20,780 rows.'}"
      ]
     },
     "execution_count": 12,
     "metadata": {},
     "output_type": "execute_result"
    }
   ],
   "source": [
    "from langchain.agents.agent_types import AgentType\n",
    "from langchain_experimental.agents.agent_toolkits import create_pandas_dataframe_agent\n",
    "\n",
    "agent = create_pandas_dataframe_agent(llm=model,df=df,verbose=True)\n",
    "\n",
    "agent.invoke(\"how many rows are there?\")"
   ]
  },
  {
   "cell_type": "markdown",
   "id": "7c6dedce",
   "metadata": {},
   "source": [
    "## Design your prompt and ask your question"
   ]
  },
  {
   "cell_type": "code",
   "execution_count": 13,
   "id": "0d005008-bad6-4458-90ec-6372d9ebe61c",
   "metadata": {
    "height": 523
   },
   "outputs": [
    {
     "name": "stdout",
     "output_type": "stream",
     "text": [
      "\n",
      "\n",
      "\u001b[1m> Entering new AgentExecutor chain...\u001b[0m\n",
      "\u001b[32;1m\u001b[1;3mThought: \n",
      "First, I need to set the pandas display options to show all the columns. Then, I will extract the column names to understand the structure of the dataframe. Finally, I will filter the dataframe for records from July 2020 and sum the `hospitalized` column for the state of interest.\n",
      "\n",
      "Action: Set pandas display options to show all columns and get the column names.\n",
      "Action Input: \n",
      "```python\n",
      "import pandas as pd\n",
      "\n",
      "# Set display options to show all columns\n",
      "pd.set_option('display.max_columns', None)\n",
      "\n",
      "# Get the column names\n",
      "df.columns\n",
      "```\u001b[0m\n",
      "Observation: Set pandas display options to show all columns and get the column names. is not a valid tool, try one of [python_repl_ast].\n",
      "Thought:\u001b[32;1m\u001b[1;3mI should use the `python_repl_ast` tool to set the display options and get the column names. This will help me understand the structure of the dataframe and identify the relevant columns for filtering and summing the hospitalizations.\n",
      "\n",
      "Action: \n",
      "```python\n",
      "import pandas as pd\n",
      "\n",
      "# Set display options to show all columns\n",
      "pd.set_option('display.max_columns', None)\n",
      "\n",
      "# Get the column names\n",
      "df.columns\n",
      "```\n",
      "Action Input: \n",
      "```python\n",
      "import pandas as pd\n",
      "\n",
      "# Set display options to show all columns\n",
      "pd.set_option('display.max_columns', None)\n",
      "\n",
      "# Get the column names\n",
      "df.columns\n",
      "```\u001b[0m\n",
      "Observation: ```python\n",
      "import pandas as pd\n",
      "\n",
      "# Set display options to show all columns\n",
      "pd.set_option('display.max_columns', None)\n",
      "\n",
      "# Get the column names\n",
      "df.columns\n",
      "``` is not a valid tool, try one of [python_repl_ast].\n",
      "Thought:\u001b[32;1m\u001b[1;3mI need to focus on using the correct tool for executing the Python commands. I will start by setting the display options to show all columns, then get the column names, and finally filter and sum the hospitalizations for July 2020.\n",
      "\n",
      "Action: Set pandas display options to show all columns and get the column names.\n",
      "Action Input: \n",
      "```python\n",
      "import pandas as pd\n",
      "\n",
      "# Set display options to show all columns\n",
      "pd.set_option('display.max_columns', None)\n",
      "\n",
      "# Get the column names\n",
      "df.columns\n",
      "```\u001b[0m\n",
      "Observation: Set pandas display options to show all columns and get the column names. is not a valid tool, try one of [python_repl_ast].\n",
      "Thought:\u001b[32;1m\u001b[1;3mI need to stay on track and use the `python_repl_ast` tool correctly to execute the Python commands. I will start by setting the display options to show all columns, then retrieve the column names, and finally filter and sum the hospitalizations for July 2020.\n",
      "\n",
      "Action: Execute Python commands to set display options and get column names.\n",
      "Action Input: \n",
      "```python\n",
      "import pandas as pd\n",
      "\n",
      "# Set display options to show all columns\n",
      "pd.set_option('display.max_columns', None)\n",
      "\n",
      "# Get the column names\n",
      "df.columns\n",
      "```\u001b[0m\n",
      "Observation: Execute Python commands to set display options and get column names. is not a valid tool, try one of [python_repl_ast].\n",
      "Thought:\u001b[32;1m\u001b[1;3mIt seems that I was repeatedly trying to use an incorrect approach to set display options and get column names. Instead, I should directly use the `python_repl_ast` tool to retrieve the column names from the dataframe `df`. Here's the corrected plan:\n",
      "\n",
      "1. Retrieve the column names from the dataframe `df`.\n",
      "2. Filter the dataframe for records from July 2020.\n",
      "3. Sum the `hospitalized` column for the state of interest (presumably Alabama - AL).\n",
      "\n",
      "Let's start by retrieving the column names from the dataframe.\n",
      "\n",
      "Action: Retrieve the column names from the dataframe `df`.\n",
      "Action Input: `df.columns`\u001b[0m\n",
      "Observation: Retrieve the column names from the dataframe `df`. is not a valid tool, try one of [python_repl_ast].\n",
      "Thought:"
     ]
    }
   ],
   "source": [
    "CSV_PROMPT_PREFIX = \"\"\"\n",
    "First set the pandas display options to show all the columns,\n",
    "get the column names, then answer the question.\n",
    "\"\"\"\n",
    "\n",
    "CSV_PROMPT_SUFFIX = \"\"\"\n",
    "- **ALWAYS** before giving the Final Answer, try another method.\n",
    "Then reflect on the answers of the two methods you did and ask yourself\n",
    "if it answers correctly the original question.\n",
    "If you are not sure, try another method.\n",
    "- If the methods tried do not give the same result,reflect and\n",
    "try again until you have two methods that have the same result.\n",
    "- If you still cannot arrive to a consistent result, say that\n",
    "you are not sure of the answer.\n",
    "- If you are sure of the correct answer, create a beautiful\n",
    "and thorough response using Markdown.\n",
    "- **DO NOT MAKE UP AN ANSWER OR USE PRIOR KNOWLEDGE,\n",
    "ONLY USE THE RESULTS OF THE CALCULATIONS YOU HAVE DONE**.\n",
    "- **ALWAYS**, as part of your \"Final Answer\", explain how you got\n",
    "to the answer on a section that starts with: \"\\n\\nExplanation:\\n\".\n",
    "In the explanation, mention the column names that you used to get\n",
    "to the final answer.\n",
    "\"\"\"\n",
    "\n",
    "QUESTION = \"How may patients were hospitalized during July 2020\" \n",
    "\"in Texas, and nationwide as the total of all states?\"\n",
    "\"Use the hospitalizedIncrease column\" \n",
    "\n",
    "\n",
    "agent.invoke(CSV_PROMPT_PREFIX + QUESTION + CSV_PROMPT_SUFFIX)"
   ]
  }
 ],
 "metadata": {
  "kernelspec": {
   "display_name": "Python 3 (ipykernel)",
   "language": "python",
   "name": "python3"
  },
  "language_info": {
   "codemirror_mode": {
    "name": "ipython",
    "version": 3
   },
   "file_extension": ".py",
   "mimetype": "text/x-python",
   "name": "python",
   "nbconvert_exporter": "python",
   "pygments_lexer": "ipython3",
   "version": "3.12.3"
  }
 },
 "nbformat": 4,
 "nbformat_minor": 5
}
